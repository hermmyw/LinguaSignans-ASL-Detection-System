{
 "cells": [
  {
   "cell_type": "code",
   "execution_count": 7,
   "metadata": {},
   "outputs": [],
   "source": [
    "import sys\n",
    "import cv2 \n",
    "import numpy as np\n",
    "import h5py\n",
    "from tensorflow.keras.models import load_model"
   ]
  },
  {
   "cell_type": "code",
   "execution_count": 8,
   "metadata": {},
   "outputs": [],
   "source": [
    "cnn_model = load_model('ASL_MNIST_CNN_20.h5')"
   ]
  },
  {
   "cell_type": "code",
   "execution_count": 9,
   "metadata": {},
   "outputs": [
    {
     "ename": "TypeError",
     "evalue": "'NoneType' object is not subscriptable",
     "output_type": "error",
     "traceback": [
      "\u001b[0;31m---------------------------------------------------------------------------\u001b[0m",
      "\u001b[0;31mTypeError\u001b[0m                                 Traceback (most recent call last)",
      "\u001b[0;32m<ipython-input-9-67b71d9b4e6b>\u001b[0m in \u001b[0;36m<module>\u001b[0;34m\u001b[0m\n\u001b[1;32m     26\u001b[0m     \u001b[0;31m####################################################\u001b[0m\u001b[0;34m\u001b[0m\u001b[0;34m\u001b[0m\u001b[0;34m\u001b[0m\u001b[0m\n\u001b[1;32m     27\u001b[0m     \u001b[0;31m# Frame processing\u001b[0m\u001b[0;34m\u001b[0m\u001b[0;34m\u001b[0m\u001b[0;34m\u001b[0m\u001b[0m\n\u001b[0;32m---> 28\u001b[0;31m     \u001b[0mframe_cut\u001b[0m \u001b[0;34m=\u001b[0m \u001b[0mframe\u001b[0m\u001b[0;34m[\u001b[0m\u001b[0;34m:\u001b[0m\u001b[0;34m,\u001b[0m \u001b[0mcut_point1\u001b[0m\u001b[0;34m:\u001b[0m\u001b[0mcut_point2\u001b[0m\u001b[0;34m]\u001b[0m\u001b[0;34m\u001b[0m\u001b[0;34m\u001b[0m\u001b[0m\n\u001b[0m\u001b[1;32m     29\u001b[0m     \u001b[0mframe_gray\u001b[0m \u001b[0;34m=\u001b[0m \u001b[0mcv2\u001b[0m\u001b[0;34m.\u001b[0m\u001b[0mcvtColor\u001b[0m\u001b[0;34m(\u001b[0m\u001b[0mframe_cut\u001b[0m\u001b[0;34m,\u001b[0m \u001b[0mcv2\u001b[0m\u001b[0;34m.\u001b[0m\u001b[0mCOLOR_BGR2GRAY\u001b[0m\u001b[0;34m)\u001b[0m\u001b[0;34m\u001b[0m\u001b[0;34m\u001b[0m\u001b[0m\n\u001b[1;32m     30\u001b[0m     \u001b[0mframe_resize\u001b[0m \u001b[0;34m=\u001b[0m \u001b[0mcv2\u001b[0m\u001b[0;34m.\u001b[0m\u001b[0mresize\u001b[0m\u001b[0;34m(\u001b[0m\u001b[0mframe_gray\u001b[0m\u001b[0;34m,\u001b[0m\u001b[0;34m(\u001b[0m\u001b[0;36m28\u001b[0m\u001b[0;34m,\u001b[0m\u001b[0;36m28\u001b[0m\u001b[0;34m)\u001b[0m\u001b[0;34m)\u001b[0m\u001b[0;34m\u001b[0m\u001b[0;34m\u001b[0m\u001b[0m\n",
      "\u001b[0;31mTypeError\u001b[0m: 'NoneType' object is not subscriptable"
     ]
    }
   ],
   "source": [
    "### Setting the number of the camera\n",
    "cap = cv2.VideoCapture(0)\n",
    "### Setting the resolusion of the camera (720p)\n",
    "img_width = 1280\n",
    "img_height = 720\n",
    "cap.set(cv2.CAP_PROP_FRAME_WIDTH, img_width)\n",
    "cap.set(cv2.CAP_PROP_FRAME_HEIGHT, img_height)\n",
    "\n",
    "cut_point1 = int((img_width - img_height ) / 2) - 1\n",
    "cut_point2 = int((img_width + img_height ) / 2)\n",
    "\n",
    "org1 = int(cut_point1 / 2)\n",
    "org2 = int(img_height / 2)\n",
    "\n",
    "org = (int(cut_point1 / 2), int(img_height / 2))\n",
    "fontFace = cv2.FONT_HERSHEY_COMPLEX\n",
    "fontScale = 5\n",
    "fontcolor = (0, 0, 255) # BGR\n",
    "thickness = 5 \n",
    "lineType = 4\n",
    "\n",
    "while 1:\n",
    "    ret, frame = cap.read()\n",
    "    \n",
    "    \n",
    "    ####################################################\n",
    "    # Frame processing\n",
    "    frame_cut = frame[:, cut_point1:cut_point2]\n",
    "    frame_gray = cv2.cvtColor(frame_cut, cv2.COLOR_BGR2GRAY)\n",
    "    frame_resize = cv2.resize(frame_gray,(28,28))\n",
    "    ####################################################\n",
    "    \n",
    "    ####################################################\n",
    "    img = frame_resize.reshape(-1,28,28,1)\n",
    "    y_pred = cnn_model.predict(img)\n",
    "    num = np.argmax(y_pred)   \n",
    "    \n",
    "    if num <= 8:\n",
    "        letter = chr(num + 65)\n",
    "    else:\n",
    "        letter = chr(num + 66)\n",
    "\n",
    "    cv2.putText(frame, letter, org, fontFace, fontScale, fontcolor, thickness, lineType)\n",
    "    cv2.rectangle(frame, (cut_point1 ,0), (cut_point2, img_height-1), (0, 255,0),5)\n",
    "    cv2.imshow('video', frame)\n",
    "    cv2.imshow('v2',img[0])\n",
    "    \n",
    "    key = cv2.waitKey(1)\n",
    "    ### Press Esc to quit detecting\n",
    "    if key == 27:\n",
    "        break\n",
    "        \n",
    "        \n",
    "\n",
    "cap.release()\n",
    "cv2.destroyAllWindows()        "
   ]
  },
  {
   "cell_type": "code",
   "execution_count": null,
   "metadata": {},
   "outputs": [],
   "source": []
  }
 ],
 "metadata": {
  "kernelspec": {
   "display_name": "Python 3",
   "language": "python",
   "name": "python3"
  },
  "language_info": {
   "codemirror_mode": {
    "name": "ipython",
    "version": 3
   },
   "file_extension": ".py",
   "mimetype": "text/x-python",
   "name": "python",
   "nbconvert_exporter": "python",
   "pygments_lexer": "ipython3",
   "version": "3.7.3"
  }
 },
 "nbformat": 4,
 "nbformat_minor": 2
}
