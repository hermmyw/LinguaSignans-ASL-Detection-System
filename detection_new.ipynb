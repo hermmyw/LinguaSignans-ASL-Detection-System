{
 "cells": [
  {
   "cell_type": "code",
   "execution_count": 1,
   "metadata": {},
   "outputs": [],
   "source": [
    "import sys\n",
    "sys.path.remove('/opt/ros/kinetic/lib/python2.7/dist-packages')\n",
    "import cv2 \n",
    "import numpy as np\n",
    "import h5py\n",
    "from tensorflow.keras.models import load_model"
   ]
  },
  {
   "cell_type": "code",
   "execution_count": 2,
   "metadata": {},
   "outputs": [],
   "source": [
    "cnn_model = load_model('ASL_MNIST_CNN_20.h5')"
   ]
  },
  {
   "cell_type": "code",
   "execution_count": 37,
   "metadata": {},
   "outputs": [],
   "source": [
    "lookUpTable1 = np.empty((1,256), np.uint8)\n",
    "for i in range(256):\n",
    "    lookUpTable1[0,i] = np.clip(pow(i / 255.0, 0.5) * 255.0, 0, 255)\n",
    "        \n",
    "lookUpTable2 = np.empty((1,256), np.uint8)\n",
    "for i in range(256):\n",
    "    lookUpTable2[0,i] = np.clip(pow(i / 255.0, 16) * 255.0, 0, 255)"
   ]
  },
  {
   "cell_type": "code",
   "execution_count": 43,
   "metadata": {},
   "outputs": [],
   "source": [
    "### Setting the number of the camera\n",
    "cap = cv2.VideoCapture(0)\n",
    "### Setting the resolusion of the camera (720p)\n",
    "img_width = 1280\n",
    "img_height = 720\n",
    "cap.set(cv2.CAP_PROP_FRAME_WIDTH, img_width)\n",
    "cap.set(cv2.CAP_PROP_FRAME_HEIGHT, img_height)\n",
    "\n",
    "cut_point1 = int((img_width - img_height ) / 2) - 1\n",
    "cut_point2 = int((img_width + img_height ) / 2)\n",
    "\n",
    "org1 = int(cut_point1 / 2)\n",
    "org2 = int(img_height / 2)\n",
    "\n",
    "org = (int(cut_point1 / 2), int(img_height / 2))\n",
    "fontFace = cv2.FONT_HERSHEY_COMPLEX\n",
    "fontScale = 5\n",
    "fontcolor = (0, 0, 255) # BGR\n",
    "thickness = 5 \n",
    "lineType = 4\n",
    "\n",
    "while 1:\n",
    "    ret, frame_o = cap.read()\n",
    "    \n",
    "    \n",
    "    ####################################################\n",
    "    # Frame processing\n",
    "    \n",
    "    frame = frame_o[:, cut_point1:cut_point2]\n",
    "    frame = cv2.cvtColor(frame, cv2.COLOR_BGR2GRAY)\n",
    "    \n",
    "    frame = cv2.LUT(frame, lookUpTable1)\n",
    "    \n",
    "    frame = cv2.GaussianBlur(frame, (31,31),0)\n",
    "    ret2, frame_mask1 = cv2.threshold(frame ,0 ,255 , cv2.THRESH_BINARY + cv2.THRESH_OTSU)\n",
    "    frame = cv2.LUT(frame, lookUpTable2)\n",
    "\n",
    "#     frame_mask2 = cv2.adaptiveThreshold(frame,255,cv2.ADAPTIVE_THRESH_GAUSSIAN_C,cv2.THRESH_BINARY,301,2)\n",
    "\n",
    "    \n",
    "#     kernel = cv2.getStructuringElement(cv2.MORPH_ELLIPSE, (15, 15))\n",
    "#     closed = cv2.morphologyEx(frame_mask1, cv2.MORPH_CLOSE, kernel)\n",
    "\n",
    "\n",
    "    \n",
    "    frame_mask = frame_mask1==255\n",
    "    frame = 255 - (255-frame) * frame_mask\n",
    "    \n",
    "    frame = cv2.resize(frame,(28,28))\n",
    "    ####################################################\n",
    "    \n",
    "    ####################################################\n",
    "    img = frame.reshape(-1,28,28,1)\n",
    "    y_pred = cnn_model.predict(img)\n",
    "    num = np.argmax(y_pred)   \n",
    "    \n",
    "    if num <= 8:\n",
    "        letter = chr(num + 65)\n",
    "    else:\n",
    "        letter = chr(num + 66)\n",
    "\n",
    "    cv2.putText(frame_o, letter, org, fontFace, fontScale, fontcolor, thickness, lineType)\n",
    "    cv2.rectangle(frame_o, (cut_point1 ,0), (cut_point2, img_height-1), (0, 255,0),5)\n",
    "    cv2.imshow('video',frame_o)\n",
    "    cv2.imshow('v2',img[0])\n",
    "    \n",
    "    key = cv2.waitKey(1)\n",
    "    ### Press Esc to quit detecting\n",
    "    if key == 27:\n",
    "        break\n",
    "        \n",
    "        \n",
    "\n",
    "cap.release()\n",
    "cv2.destroyAllWindows()        "
   ]
  },
  {
   "cell_type": "code",
   "execution_count": null,
   "metadata": {},
   "outputs": [],
   "source": []
  },
  {
   "cell_type": "code",
   "execution_count": null,
   "metadata": {},
   "outputs": [],
   "source": []
  }
 ],
 "metadata": {
  "kernelspec": {
   "display_name": "Python 3",
   "language": "python",
   "name": "python3"
  },
  "language_info": {
   "codemirror_mode": {
    "name": "ipython",
    "version": 3
   },
   "file_extension": ".py",
   "mimetype": "text/x-python",
   "name": "python",
   "nbconvert_exporter": "python",
   "pygments_lexer": "ipython3",
   "version": "3.7.3"
  }
 },
 "nbformat": 4,
 "nbformat_minor": 2
}
